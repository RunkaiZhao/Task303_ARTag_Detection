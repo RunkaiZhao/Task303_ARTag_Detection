{
 "cells": [
  {
   "cell_type": "code",
   "execution_count": 1,
   "metadata": {},
   "outputs": [],
   "source": [
    "import numpy as np\n",
    "import cv2 as cv\n",
    "import matplotlib.pyplot as plt"
   ]
  },
  {
   "cell_type": "code",
   "execution_count": 2,
   "metadata": {},
   "outputs": [],
   "source": [
    "cap = cv.VideoCapture(0)                                       \n",
    "fourcc = cv.VideoWriter_fourcc(*'DIVX')\n",
    "out = cv.VideoWriter('C:/Users/Runkai Zhao/Desktop/OWR/T3/capVideo.avi',fourcc, 20.0, (640,480))\n",
    "    \n",
    "while(cap.isOpened()):\n",
    "    ret, frame = cap.read()                                     \n",
    "    frame = cv.flip(frame,1)\n",
    "    cv.imshow(\"video\", frame)\n",
    "    \n",
    "    #out.write(frame)\n",
    "    \n",
    "    if cv.waitKey(1) & 0xFF == ord('q'):                      \n",
    "        break\n",
    "    elif cv.waitKey(1) & 0xFF == ord('c'):   \n",
    "        cv.imwrite('C:/Users/Runkai Zhao/Desktop/OWR/T3/capture.jpg', frame)\n",
    "        \n",
    "cap.release()            \n",
    "cv.destroyAllWindows()  "
   ]
  },
  {
   "cell_type": "code",
   "execution_count": null,
   "metadata": {},
   "outputs": [],
   "source": []
  }
 ],
 "metadata": {
  "kernelspec": {
   "display_name": "Python 3.7.7 64-bit ('mtrn4110': conda)",
   "language": "python",
   "name": "python37764bitmtrn4110conda007313b6c28c4c8a8ab9732e989cef24"
  },
  "language_info": {
   "codemirror_mode": {
    "name": "ipython",
    "version": 3
   },
   "file_extension": ".py",
   "mimetype": "text/x-python",
   "name": "python",
   "nbconvert_exporter": "python",
   "pygments_lexer": "ipython3",
   "version": "3.7.7"
  }
 },
 "nbformat": 4,
 "nbformat_minor": 4
}
